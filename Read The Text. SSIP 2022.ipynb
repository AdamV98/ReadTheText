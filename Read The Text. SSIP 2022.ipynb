{
 "cells": [
  {
   "cell_type": "markdown",
   "id": "339bd460",
   "metadata": {},
   "source": [
    "# Project: Read The Text\n",
    "\n",
    "**Description:**\n",
    "\n",
    "**Goal:**\n",
    "\n"
   ]
  },
  {
   "cell_type": "markdown",
   "id": "88e682f4",
   "metadata": {},
   "source": [
    "## Target Image"
   ]
  },
  {
   "cell_type": "code",
   "execution_count": null,
   "id": "8281e2ba",
   "metadata": {},
   "outputs": [],
   "source": [
    "from Deblurring impor"
   ]
  },
  {
   "cell_type": "code",
   "execution_count": null,
   "id": "06c700c4",
   "metadata": {},
   "outputs": [],
   "source": []
  },
  {
   "cell_type": "markdown",
   "id": "7b5afb02",
   "metadata": {},
   "source": [
    "## The Naïve Inverse Solution: Singular Value Decomposition"
   ]
  },
  {
   "cell_type": "code",
   "execution_count": null,
   "id": "2cd00954",
   "metadata": {},
   "outputs": [],
   "source": []
  },
  {
   "cell_type": "code",
   "execution_count": null,
   "id": "9531ca88",
   "metadata": {},
   "outputs": [],
   "source": []
  },
  {
   "cell_type": "markdown",
   "id": "960ea4ff",
   "metadata": {},
   "source": [
    "## Wiener Filter"
   ]
  },
  {
   "cell_type": "code",
   "execution_count": null,
   "id": "201b0eeb",
   "metadata": {},
   "outputs": [],
   "source": []
  },
  {
   "cell_type": "code",
   "execution_count": null,
   "id": "4000b1f1",
   "metadata": {},
   "outputs": [],
   "source": []
  },
  {
   "cell_type": "markdown",
   "id": "497f0451",
   "metadata": {},
   "source": [
    "## Tikhonov filter"
   ]
  },
  {
   "cell_type": "code",
   "execution_count": null,
   "id": "54e0c6d5",
   "metadata": {},
   "outputs": [],
   "source": []
  },
  {
   "cell_type": "code",
   "execution_count": null,
   "id": "44edb543",
   "metadata": {},
   "outputs": [],
   "source": []
  },
  {
   "cell_type": "markdown",
   "id": "8549a03b",
   "metadata": {},
   "source": [
    "## Post-Processing\n",
    "\n",
    "**Background removal.** \n",
    "**Contrast enhancement.**\n"
   ]
  },
  {
   "cell_type": "code",
   "execution_count": null,
   "id": "ae2a44c4",
   "metadata": {},
   "outputs": [],
   "source": []
  },
  {
   "cell_type": "code",
   "execution_count": null,
   "id": "dd4ff414",
   "metadata": {},
   "outputs": [],
   "source": []
  },
  {
   "cell_type": "markdown",
   "id": "4627f62c",
   "metadata": {},
   "source": [
    "## Research"
   ]
  }
 ],
 "metadata": {
  "kernelspec": {
   "display_name": "Python 3 (ipykernel)",
   "language": "python",
   "name": "python3"
  },
  "language_info": {
   "codemirror_mode": {
    "name": "ipython",
    "version": 3
   },
   "file_extension": ".py",
   "mimetype": "text/x-python",
   "name": "python",
   "nbconvert_exporter": "python",
   "pygments_lexer": "ipython3",
   "version": "3.7.5"
  },
  "toc": {
   "base_numbering": 1,
   "nav_menu": {},
   "number_sections": true,
   "sideBar": true,
   "skip_h1_title": true,
   "title_cell": "Table of Contents",
   "title_sidebar": "Contents",
   "toc_cell": false,
   "toc_position": {
    "height": "calc(100% - 180px)",
    "left": "10px",
    "top": "150px",
    "width": "305.594px"
   },
   "toc_section_display": true,
   "toc_window_display": true
  }
 },
 "nbformat": 4,
 "nbformat_minor": 5
}
